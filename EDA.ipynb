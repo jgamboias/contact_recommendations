{
 "cells": [
  {
   "cell_type": "code",
   "execution_count": 83,
   "id": "93536d01",
   "metadata": {},
   "outputs": [],
   "source": [
    "import pandas as pd\n",
    "import numpy as np\n",
    "import matplotlib.pyplot as plt\n",
    "import seaborn as sns\n",
    "import common"
   ]
  },
  {
   "cell_type": "markdown",
   "id": "fab64832",
   "metadata": {},
   "source": [
    "## Users"
   ]
  },
  {
   "cell_type": "code",
   "execution_count": 3,
   "id": "c8804a1c",
   "metadata": {},
   "outputs": [
    {
     "data": {
      "text/html": [
       "<div>\n",
       "<style scoped>\n",
       "    .dataframe tbody tr th:only-of-type {\n",
       "        vertical-align: middle;\n",
       "    }\n",
       "\n",
       "    .dataframe tbody tr th {\n",
       "        vertical-align: top;\n",
       "    }\n",
       "\n",
       "    .dataframe thead th {\n",
       "        text-align: right;\n",
       "    }\n",
       "</style>\n",
       "<table border=\"1\" class=\"dataframe\">\n",
       "  <thead>\n",
       "    <tr style=\"text-align: right;\">\n",
       "      <th></th>\n",
       "      <th>user_id</th>\n",
       "      <th>country_code</th>\n",
       "      <th>city_id</th>\n",
       "      <th>company_id</th>\n",
       "      <th>discipline_id</th>\n",
       "    </tr>\n",
       "  </thead>\n",
       "  <tbody>\n",
       "    <tr>\n",
       "      <th>0</th>\n",
       "      <td>1</td>\n",
       "      <td>de</td>\n",
       "      <td>2911298</td>\n",
       "      <td>119114</td>\n",
       "      <td>12.0</td>\n",
       "    </tr>\n",
       "    <tr>\n",
       "      <th>1</th>\n",
       "      <td>2</td>\n",
       "      <td>de</td>\n",
       "      <td>2911298</td>\n",
       "      <td>236135</td>\n",
       "      <td>13.0</td>\n",
       "    </tr>\n",
       "    <tr>\n",
       "      <th>2</th>\n",
       "      <td>14</td>\n",
       "      <td>de</td>\n",
       "      <td>2950159</td>\n",
       "      <td>192752</td>\n",
       "      <td>13.0</td>\n",
       "    </tr>\n",
       "    <tr>\n",
       "      <th>3</th>\n",
       "      <td>20</td>\n",
       "      <td>de</td>\n",
       "      <td>2917544</td>\n",
       "      <td>291107</td>\n",
       "      <td>13.0</td>\n",
       "    </tr>\n",
       "    <tr>\n",
       "      <th>4</th>\n",
       "      <td>21</td>\n",
       "      <td>de</td>\n",
       "      <td>2911298</td>\n",
       "      <td>56810</td>\n",
       "      <td>14.0</td>\n",
       "    </tr>\n",
       "  </tbody>\n",
       "</table>\n",
       "</div>"
      ],
      "text/plain": [
       "   user_id country_code  city_id  company_id  discipline_id\n",
       "0        1           de  2911298      119114           12.0\n",
       "1        2           de  2911298      236135           13.0\n",
       "2       14           de  2950159      192752           13.0\n",
       "3       20           de  2917544      291107           13.0\n",
       "4       21           de  2911298       56810           14.0"
      ]
     },
     "execution_count": 3,
     "metadata": {},
     "output_type": "execute_result"
    }
   ],
   "source": [
    "# users\n",
    "users = pd.read_csv('users.csv')\n",
    "users.head()"
   ]
  },
  {
   "cell_type": "code",
   "execution_count": 23,
   "id": "ce28c5ff",
   "metadata": {},
   "outputs": [
    {
     "data": {
      "image/png": "[encoded data removed]",
      "text/plain": [
       "<Figure size 432x288 with 1 Axes>"
      ]
     },
     "metadata": {
      "needs_background": "light"
     },
     "output_type": "display_data"
    }
   ],
   "source": [
    "# Number of users per country code\n",
    "users.country_code.value_counts().plot(\n",
    "    kind ='bar', \n",
    "    rot=0,\n",
    "    title='Number of users per country code'\n",
    ");"
   ]
  },
  {
   "cell_type": "markdown",
   "id": "bb7cc21f",
   "metadata": {},
   "source": [
    "There are 3 countries (is it germany, austria and switzerland?)"
   ]
  },
  {
   "cell_type": "code",
   "execution_count": 33,
   "id": "e31ec953",
   "metadata": {},
   "outputs": [
    {
     "data": {
      "text/plain": [
       "city_id\n",
       "2911298     14266\n",
       "2867714     12095\n",
       "2950159      9464\n",
       "2925533      8494\n",
       "2886242      7309\n",
       "            ...  \n",
       "2868992         1\n",
       "2869025         1\n",
       "2869026         1\n",
       "2869168         1\n",
       "12188617        1\n",
       "Name: user_id, Length: 6593, dtype: int64"
      ]
     },
     "execution_count": 33,
     "metadata": {},
     "output_type": "execute_result"
    }
   ],
   "source": [
    "# Number of users per country code\n",
    "users.groupby(by='city_id')['user_id'].count().sort_values(ascending=False)"
   ]
  },
  {
   "cell_type": "markdown",
   "id": "fdd0cb99",
   "metadata": {},
   "source": [
    "There are 6593 different cities"
   ]
  },
  {
   "cell_type": "code",
   "execution_count": 34,
   "id": "1e9ace0b",
   "metadata": {},
   "outputs": [
    {
     "data": {
      "text/plain": [
       "company_id\n",
       "301210    648\n",
       "302627    549\n",
       "301956    486\n",
       "302687    447\n",
       "300110    447\n",
       "         ... \n",
       "49643       1\n",
       "49642       1\n",
       "175918      1\n",
       "175925      1\n",
       "13          1\n",
       "Name: user_id, Length: 63262, dtype: int64"
      ]
     },
     "execution_count": 34,
     "metadata": {},
     "output_type": "execute_result"
    }
   ],
   "source": [
    "# Number of users per company\n",
    "users.groupby(by='company_id')['user_id'].count().sort_values(ascending=False)"
   ]
  },
  {
   "cell_type": "markdown",
   "id": "af1b2fa1",
   "metadata": {},
   "source": [
    "There are 63262 different companies"
   ]
  },
  {
   "cell_type": "code",
   "execution_count": 40,
   "id": "e20b4b95",
   "metadata": {},
   "outputs": [
    {
     "data": {
      "image/png": "[encoded data removed]",
      "text/plain": [
       "<Figure size 1080x360 with 1 Axes>"
      ]
     },
     "metadata": {
      "needs_background": "light"
     },
     "output_type": "display_data"
    }
   ],
   "source": [
    "# Number of users per discipline_id\n",
    "users.discipline_id.value_counts().plot(\n",
    "    kind='bar', \n",
    "    rot=0,\n",
    "    title='Number of users per discipline_id',\n",
    "    figsize=(15,5)\n",
    ");"
   ]
  },
  {
   "cell_type": "markdown",
   "id": "59a8d634",
   "metadata": {},
   "source": [
    "## Connections"
   ]
  },
  {
   "cell_type": "code",
   "execution_count": 42,
   "id": "efab0da1",
   "metadata": {},
   "outputs": [
    {
     "name": "stdout",
     "output_type": "stream",
     "text": [
      "Average train target positive rate = 0.10756333333333333\n"
     ]
    },
    {
     "data": {
      "text/html": [
       "<div>\n",
       "<style scoped>\n",
       "    .dataframe tbody tr th:only-of-type {\n",
       "        vertical-align: middle;\n",
       "    }\n",
       "\n",
       "    .dataframe tbody tr th {\n",
       "        vertical-align: top;\n",
       "    }\n",
       "\n",
       "    .dataframe thead th {\n",
       "        text-align: right;\n",
       "    }\n",
       "</style>\n",
       "<table border=\"1\" class=\"dataframe\">\n",
       "  <thead>\n",
       "    <tr style=\"text-align: right;\">\n",
       "      <th></th>\n",
       "      <th>user_id</th>\n",
       "      <th>recommended_contact_id</th>\n",
       "      <th>n_shared_contacts</th>\n",
       "      <th>ecommended_at</th>\n",
       "      <th>added</th>\n",
       "    </tr>\n",
       "  </thead>\n",
       "  <tbody>\n",
       "    <tr>\n",
       "      <th>0</th>\n",
       "      <td>2086671</td>\n",
       "      <td>2212504</td>\n",
       "      <td>3</td>\n",
       "      <td>1</td>\n",
       "      <td>True</td>\n",
       "    </tr>\n",
       "    <tr>\n",
       "      <th>1</th>\n",
       "      <td>1309409</td>\n",
       "      <td>1930913</td>\n",
       "      <td>6</td>\n",
       "      <td>2</td>\n",
       "      <td>True</td>\n",
       "    </tr>\n",
       "    <tr>\n",
       "      <th>2</th>\n",
       "      <td>1038982</td>\n",
       "      <td>1136465</td>\n",
       "      <td>17</td>\n",
       "      <td>3</td>\n",
       "      <td>True</td>\n",
       "    </tr>\n",
       "    <tr>\n",
       "      <th>3</th>\n",
       "      <td>2358484</td>\n",
       "      <td>2359329</td>\n",
       "      <td>0</td>\n",
       "      <td>4</td>\n",
       "      <td>True</td>\n",
       "    </tr>\n",
       "    <tr>\n",
       "      <th>4</th>\n",
       "      <td>848002</td>\n",
       "      <td>1016841</td>\n",
       "      <td>0</td>\n",
       "      <td>5</td>\n",
       "      <td>True</td>\n",
       "    </tr>\n",
       "  </tbody>\n",
       "</table>\n",
       "</div>"
      ],
      "text/plain": [
       "   user_id  recommended_contact_id  n_shared_contacts  ecommended_at  added\n",
       "0  2086671                 2212504                  3              1   True\n",
       "1  1309409                 1930913                  6              2   True\n",
       "2  1038982                 1136465                 17              3   True\n",
       "3  2358484                 2359329                  0              4   True\n",
       "4   848002                 1016841                  0              5   True"
      ]
     },
     "execution_count": 42,
     "metadata": {},
     "output_type": "execute_result"
    }
   ],
   "source": [
    "# Train dataset\n",
    "connections_train = pd.read_csv('connections_train.csv')\n",
    "print('Average train target positive rate = {}'.format(np.mean(connections_train['added'])))\n",
    "connections_train.head()"
   ]
  },
  {
   "cell_type": "code",
   "execution_count": 12,
   "id": "4d4012bd",
   "metadata": {},
   "outputs": [
    {
     "name": "stdout",
     "output_type": "stream",
     "text": [
      "Average test target positive rate = 0.03193\n"
     ]
    },
    {
     "data": {
      "text/html": [
       "<div>\n",
       "<style scoped>\n",
       "    .dataframe tbody tr th:only-of-type {\n",
       "        vertical-align: middle;\n",
       "    }\n",
       "\n",
       "    .dataframe tbody tr th {\n",
       "        vertical-align: top;\n",
       "    }\n",
       "\n",
       "    .dataframe thead th {\n",
       "        text-align: right;\n",
       "    }\n",
       "</style>\n",
       "<table border=\"1\" class=\"dataframe\">\n",
       "  <thead>\n",
       "    <tr style=\"text-align: right;\">\n",
       "      <th></th>\n",
       "      <th>user_id</th>\n",
       "      <th>recommended_contact_id</th>\n",
       "      <th>n_shared_contacts</th>\n",
       "      <th>ecommended_at</th>\n",
       "      <th>added</th>\n",
       "    </tr>\n",
       "  </thead>\n",
       "  <tbody>\n",
       "    <tr>\n",
       "      <th>0</th>\n",
       "      <td>534691</td>\n",
       "      <td>843530</td>\n",
       "      <td>0</td>\n",
       "      <td>900001</td>\n",
       "      <td>False</td>\n",
       "    </tr>\n",
       "    <tr>\n",
       "      <th>1</th>\n",
       "      <td>534691</td>\n",
       "      <td>847103</td>\n",
       "      <td>0</td>\n",
       "      <td>900002</td>\n",
       "      <td>False</td>\n",
       "    </tr>\n",
       "    <tr>\n",
       "      <th>2</th>\n",
       "      <td>534691</td>\n",
       "      <td>855886</td>\n",
       "      <td>0</td>\n",
       "      <td>900003</td>\n",
       "      <td>False</td>\n",
       "    </tr>\n",
       "    <tr>\n",
       "      <th>3</th>\n",
       "      <td>534691</td>\n",
       "      <td>862772</td>\n",
       "      <td>0</td>\n",
       "      <td>900004</td>\n",
       "      <td>False</td>\n",
       "    </tr>\n",
       "    <tr>\n",
       "      <th>4</th>\n",
       "      <td>534691</td>\n",
       "      <td>916386</td>\n",
       "      <td>0</td>\n",
       "      <td>900005</td>\n",
       "      <td>False</td>\n",
       "    </tr>\n",
       "  </tbody>\n",
       "</table>\n",
       "</div>"
      ],
      "text/plain": [
       "   user_id  recommended_contact_id  n_shared_contacts  ecommended_at  added\n",
       "0   534691                  843530                  0         900001  False\n",
       "1   534691                  847103                  0         900002  False\n",
       "2   534691                  855886                  0         900003  False\n",
       "3   534691                  862772                  0         900004  False\n",
       "4   534691                  916386                  0         900005  False"
      ]
     },
     "execution_count": 12,
     "metadata": {},
     "output_type": "execute_result"
    }
   ],
   "source": [
    "# Test dataset\n",
    "connections_test = pd.read_csv('connections_test.csv')\n",
    "print('Average test target positive rate = {}'.format(np.mean(connections_test['added'])))\n",
    "connections_test.head()"
   ]
  },
  {
   "cell_type": "markdown",
   "id": "9d4ca632",
   "metadata": {},
   "source": [
    "There's a considerable difference in the target hit rate between the train and test datasets. There might have been some kind of upsampling or downsampling applied to the datasets.\n",
    "\n",
    "This could be especially important because of the nature of the problem. If the platform is recommending connections to a user, there is a opportunity cost, as the user might not be willing to scroll trough a long list of  recommended connections. \n",
    "\n",
    "Therefore, we can assume that this classification problem can also be seen from a ranking perpective: the system should assign a probability to each recommendation and present to the user the top n recommendations with the highest probability. \n",
    "\n"
   ]
  },
  {
   "cell_type": "code",
   "execution_count": 52,
   "id": "de06242e",
   "metadata": {},
   "outputs": [
    {
     "name": "stdout",
     "output_type": "stream",
     "text": [
      "Train timestamps varie between 1 and 900000\n",
      "Test timestamps varie between 900001 and 1000000\n"
     ]
    }
   ],
   "source": [
    "print('Train timestamps varie between {} and {}'.format(\n",
    "    np.min(connections_train['ecommended_at']),\n",
    "    np.max(connections_train['ecommended_at'])\n",
    "    ))\n",
    "\n",
    "print('Test timestamps varie between {} and {}'.format(\n",
    "    np.min(connections_test['ecommended_at']),\n",
    "    np.max(connections_test['ecommended_at'])\n",
    "    ))"
   ]
  },
  {
   "cell_type": "code",
   "execution_count": 95,
   "id": "0b52757c",
   "metadata": {},
   "outputs": [
    {
     "data": {
      "image/png": "[encoded data removed]",
      "text/plain": [
       "<Figure size 1080x360 with 1 Axes>"
      ]
     },
     "metadata": {
      "needs_background": "light"
     },
     "output_type": "display_data"
    }
   ],
   "source": [
    "# Number of shared contacts\n",
    "plt.subplot(1,1,1)\n",
    "axes=connections_train['n_shared_contacts'].hist(\n",
    "    bins=50,\n",
    "    figsize=(15,5)\n",
    ")\n",
    "plt.title(\"Number of shared contacts histogram\");"
   ]
  },
  {
   "cell_type": "code",
   "execution_count": 97,
   "id": "d4c6f5a1",
   "metadata": {},
   "outputs": [
    {
     "data": {
      "image/png": "[encoded data removed]",
      "text/plain": [
       "<Figure size 1080x360 with 1 Axes>"
      ]
     },
     "metadata": {
      "needs_background": "light"
     },
     "output_type": "display_data"
    }
   ],
   "source": [
    "# Number of shared contacts, removing the cases where n_shared_contacts = 0\n",
    "plt.subplot(1,1,1)\n",
    "axes=connections_train[connections_train['n_shared_contacts'] != 0]['n_shared_contacts'].hist(\n",
    "    bins=50,\n",
    "    figsize=(15,5)\n",
    ")\n",
    "plt.title(\"Number of shared contacts histogram, removeing the cases with no shared contacts\");"
   ]
  },
  {
   "cell_type": "code",
   "execution_count": 91,
   "id": "f5c13e12",
   "metadata": {},
   "outputs": [
    {
     "data": {
      "text/html": [
       "<div>\n",
       "<style scoped>\n",
       "    .dataframe tbody tr th:only-of-type {\n",
       "        vertical-align: middle;\n",
       "    }\n",
       "\n",
       "    .dataframe tbody tr th {\n",
       "        vertical-align: top;\n",
       "    }\n",
       "\n",
       "    .dataframe thead th {\n",
       "        text-align: right;\n",
       "    }\n",
       "</style>\n",
       "<table border=\"1\" class=\"dataframe\">\n",
       "  <thead>\n",
       "    <tr style=\"text-align: right;\">\n",
       "      <th></th>\n",
       "      <th>user_id_x</th>\n",
       "      <th>recommended_contact_id</th>\n",
       "      <th>n_shared_contacts</th>\n",
       "      <th>ecommended_at</th>\n",
       "      <th>added</th>\n",
       "      <th>country_code_user</th>\n",
       "      <th>city_id_user</th>\n",
       "      <th>company_id_user</th>\n",
       "      <th>discipline_id_user</th>\n",
       "      <th>user_id_y</th>\n",
       "      <th>country_code_rec</th>\n",
       "      <th>city_id_rec</th>\n",
       "      <th>company_id_rec</th>\n",
       "      <th>discipline_id_rec</th>\n",
       "      <th>same_country</th>\n",
       "      <th>same_city</th>\n",
       "      <th>same_company</th>\n",
       "      <th>same_discipline</th>\n",
       "    </tr>\n",
       "  </thead>\n",
       "  <tbody>\n",
       "    <tr>\n",
       "      <th>0</th>\n",
       "      <td>2086671</td>\n",
       "      <td>2212504</td>\n",
       "      <td>3</td>\n",
       "      <td>1</td>\n",
       "      <td>True</td>\n",
       "      <td>de</td>\n",
       "      <td>2850257</td>\n",
       "      <td>162892</td>\n",
       "      <td>22.0</td>\n",
       "      <td>2212504</td>\n",
       "      <td>de</td>\n",
       "      <td>2892794</td>\n",
       "      <td>263358</td>\n",
       "      <td>14.0</td>\n",
       "      <td>1</td>\n",
       "      <td>0</td>\n",
       "      <td>0</td>\n",
       "      <td>0</td>\n",
       "    </tr>\n",
       "    <tr>\n",
       "      <th>1</th>\n",
       "      <td>1309409</td>\n",
       "      <td>1930913</td>\n",
       "      <td>6</td>\n",
       "      <td>2</td>\n",
       "      <td>True</td>\n",
       "      <td>de</td>\n",
       "      <td>2947416</td>\n",
       "      <td>112551</td>\n",
       "      <td>7.0</td>\n",
       "      <td>1930913</td>\n",
       "      <td>de</td>\n",
       "      <td>2934246</td>\n",
       "      <td>112551</td>\n",
       "      <td>21.0</td>\n",
       "      <td>1</td>\n",
       "      <td>0</td>\n",
       "      <td>1</td>\n",
       "      <td>0</td>\n",
       "    </tr>\n",
       "    <tr>\n",
       "      <th>2</th>\n",
       "      <td>1038982</td>\n",
       "      <td>1136465</td>\n",
       "      <td>17</td>\n",
       "      <td>3</td>\n",
       "      <td>True</td>\n",
       "      <td>de</td>\n",
       "      <td>2861650</td>\n",
       "      <td>300967</td>\n",
       "      <td>8.0</td>\n",
       "      <td>1136465</td>\n",
       "      <td>de</td>\n",
       "      <td>2861650</td>\n",
       "      <td>300967</td>\n",
       "      <td>9.0</td>\n",
       "      <td>1</td>\n",
       "      <td>1</td>\n",
       "      <td>1</td>\n",
       "      <td>0</td>\n",
       "    </tr>\n",
       "    <tr>\n",
       "      <th>3</th>\n",
       "      <td>2358484</td>\n",
       "      <td>2359329</td>\n",
       "      <td>0</td>\n",
       "      <td>4</td>\n",
       "      <td>True</td>\n",
       "      <td>de</td>\n",
       "      <td>2928810</td>\n",
       "      <td>265548</td>\n",
       "      <td>9.0</td>\n",
       "      <td>2359329</td>\n",
       "      <td>de</td>\n",
       "      <td>2892518</td>\n",
       "      <td>14763</td>\n",
       "      <td>22.0</td>\n",
       "      <td>1</td>\n",
       "      <td>0</td>\n",
       "      <td>0</td>\n",
       "      <td>0</td>\n",
       "    </tr>\n",
       "    <tr>\n",
       "      <th>4</th>\n",
       "      <td>2114170</td>\n",
       "      <td>2359329</td>\n",
       "      <td>1</td>\n",
       "      <td>163380</td>\n",
       "      <td>True</td>\n",
       "      <td>de</td>\n",
       "      <td>2847736</td>\n",
       "      <td>49243</td>\n",
       "      <td>22.0</td>\n",
       "      <td>2359329</td>\n",
       "      <td>de</td>\n",
       "      <td>2892518</td>\n",
       "      <td>14763</td>\n",
       "      <td>22.0</td>\n",
       "      <td>1</td>\n",
       "      <td>0</td>\n",
       "      <td>0</td>\n",
       "      <td>1</td>\n",
       "    </tr>\n",
       "    <tr>\n",
       "      <th>...</th>\n",
       "      <td>...</td>\n",
       "      <td>...</td>\n",
       "      <td>...</td>\n",
       "      <td>...</td>\n",
       "      <td>...</td>\n",
       "      <td>...</td>\n",
       "      <td>...</td>\n",
       "      <td>...</td>\n",
       "      <td>...</td>\n",
       "      <td>...</td>\n",
       "      <td>...</td>\n",
       "      <td>...</td>\n",
       "      <td>...</td>\n",
       "      <td>...</td>\n",
       "      <td>...</td>\n",
       "      <td>...</td>\n",
       "      <td>...</td>\n",
       "      <td>...</td>\n",
       "    </tr>\n",
       "    <tr>\n",
       "      <th>899995</th>\n",
       "      <td>37985</td>\n",
       "      <td>82229</td>\n",
       "      <td>12</td>\n",
       "      <td>899798</td>\n",
       "      <td>True</td>\n",
       "      <td>de</td>\n",
       "      <td>2944368</td>\n",
       "      <td>259290</td>\n",
       "      <td>15.0</td>\n",
       "      <td>82229</td>\n",
       "      <td>de</td>\n",
       "      <td>2911298</td>\n",
       "      <td>299496</td>\n",
       "      <td>15.0</td>\n",
       "      <td>1</td>\n",
       "      <td>0</td>\n",
       "      <td>0</td>\n",
       "      <td>1</td>\n",
       "    </tr>\n",
       "    <tr>\n",
       "      <th>899996</th>\n",
       "      <td>416088</td>\n",
       "      <td>1290388</td>\n",
       "      <td>1</td>\n",
       "      <td>899799</td>\n",
       "      <td>True</td>\n",
       "      <td>de</td>\n",
       "      <td>2934691</td>\n",
       "      <td>101221</td>\n",
       "      <td>15.0</td>\n",
       "      <td>1290388</td>\n",
       "      <td>de</td>\n",
       "      <td>2934691</td>\n",
       "      <td>131370</td>\n",
       "      <td>3.0</td>\n",
       "      <td>1</td>\n",
       "      <td>1</td>\n",
       "      <td>0</td>\n",
       "      <td>0</td>\n",
       "    </tr>\n",
       "    <tr>\n",
       "      <th>899997</th>\n",
       "      <td>400696</td>\n",
       "      <td>1213424</td>\n",
       "      <td>29</td>\n",
       "      <td>899800</td>\n",
       "      <td>True</td>\n",
       "      <td>de</td>\n",
       "      <td>2867714</td>\n",
       "      <td>107180</td>\n",
       "      <td>14.0</td>\n",
       "      <td>1213424</td>\n",
       "      <td>de</td>\n",
       "      <td>2911298</td>\n",
       "      <td>107180</td>\n",
       "      <td>4.0</td>\n",
       "      <td>1</td>\n",
       "      <td>0</td>\n",
       "      <td>1</td>\n",
       "      <td>0</td>\n",
       "    </tr>\n",
       "    <tr>\n",
       "      <th>899998</th>\n",
       "      <td>1615629</td>\n",
       "      <td>2091036</td>\n",
       "      <td>3</td>\n",
       "      <td>899827</td>\n",
       "      <td>True</td>\n",
       "      <td>de</td>\n",
       "      <td>2886242</td>\n",
       "      <td>70250</td>\n",
       "      <td>7.0</td>\n",
       "      <td>2091036</td>\n",
       "      <td>de</td>\n",
       "      <td>2911298</td>\n",
       "      <td>70250</td>\n",
       "      <td>19.0</td>\n",
       "      <td>1</td>\n",
       "      <td>0</td>\n",
       "      <td>1</td>\n",
       "      <td>0</td>\n",
       "    </tr>\n",
       "    <tr>\n",
       "      <th>899999</th>\n",
       "      <td>1548281</td>\n",
       "      <td>2384651</td>\n",
       "      <td>13</td>\n",
       "      <td>899885</td>\n",
       "      <td>True</td>\n",
       "      <td>de</td>\n",
       "      <td>2879139</td>\n",
       "      <td>164365</td>\n",
       "      <td>2.0</td>\n",
       "      <td>2384651</td>\n",
       "      <td>de</td>\n",
       "      <td>7602610</td>\n",
       "      <td>28237</td>\n",
       "      <td>7.0</td>\n",
       "      <td>1</td>\n",
       "      <td>0</td>\n",
       "      <td>0</td>\n",
       "      <td>0</td>\n",
       "    </tr>\n",
       "  </tbody>\n",
       "</table>\n",
       "<p>900000 rows × 18 columns</p>\n",
       "</div>"
      ],
      "text/plain": [
       "        user_id_x  recommended_contact_id  n_shared_contacts  ecommended_at  \\\n",
       "0         2086671                 2212504                  3              1   \n",
       "1         1309409                 1930913                  6              2   \n",
       "2         1038982                 1136465                 17              3   \n",
       "3         2358484                 2359329                  0              4   \n",
       "4         2114170                 2359329                  1         163380   \n",
       "...           ...                     ...                ...            ...   \n",
       "899995      37985                   82229                 12         899798   \n",
       "899996     416088                 1290388                  1         899799   \n",
       "899997     400696                 1213424                 29         899800   \n",
       "899998    1615629                 2091036                  3         899827   \n",
       "899999    1548281                 2384651                 13         899885   \n",
       "\n",
       "        added country_code_user  city_id_user  company_id_user  \\\n",
       "0        True                de       2850257           162892   \n",
       "1        True                de       2947416           112551   \n",
       "2        True                de       2861650           300967   \n",
       "3        True                de       2928810           265548   \n",
       "4        True                de       2847736            49243   \n",
       "...       ...               ...           ...              ...   \n",
       "899995   True                de       2944368           259290   \n",
       "899996   True                de       2934691           101221   \n",
       "899997   True                de       2867714           107180   \n",
       "899998   True                de       2886242            70250   \n",
       "899999   True                de       2879139           164365   \n",
       "\n",
       "        discipline_id_user  user_id_y country_code_rec  city_id_rec  \\\n",
       "0                     22.0    2212504               de      2892794   \n",
       "1                      7.0    1930913               de      2934246   \n",
       "2                      8.0    1136465               de      2861650   \n",
       "3                      9.0    2359329               de      2892518   \n",
       "4                     22.0    2359329               de      2892518   \n",
       "...                    ...        ...              ...          ...   \n",
       "899995                15.0      82229               de      2911298   \n",
       "899996                15.0    1290388               de      2934691   \n",
       "899997                14.0    1213424               de      2911298   \n",
       "899998                 7.0    2091036               de      2911298   \n",
       "899999                 2.0    2384651               de      7602610   \n",
       "\n",
       "        company_id_rec  discipline_id_rec  same_country  same_city  \\\n",
       "0               263358               14.0             1          0   \n",
       "1               112551               21.0             1          0   \n",
       "2               300967                9.0             1          1   \n",
       "3                14763               22.0             1          0   \n",
       "4                14763               22.0             1          0   \n",
       "...                ...                ...           ...        ...   \n",
       "899995          299496               15.0             1          0   \n",
       "899996          131370                3.0             1          1   \n",
       "899997          107180                4.0             1          0   \n",
       "899998           70250               19.0             1          0   \n",
       "899999           28237                7.0             1          0   \n",
       "\n",
       "        same_company  same_discipline  \n",
       "0                  0                0  \n",
       "1                  1                0  \n",
       "2                  1                0  \n",
       "3                  0                0  \n",
       "4                  0                1  \n",
       "...              ...              ...  \n",
       "899995             0                1  \n",
       "899996             0                0  \n",
       "899997             1                0  \n",
       "899998             1                0  \n",
       "899999             0                0  \n",
       "\n",
       "[900000 rows x 18 columns]"
      ]
     },
     "execution_count": 91,
     "metadata": {},
     "output_type": "execute_result"
    }
   ],
   "source": [
    "enriched_connections = common.enrich_dataset(connections_train, users)\n",
    "enriched_connections"
   ]
  },
  {
   "cell_type": "code",
   "execution_count": 94,
   "id": "163e7692",
   "metadata": {},
   "outputs": [
    {
     "data": {
      "image/png": "[encoded data removed]",
      "text/plain": [
       "<Figure size 1080x864 with 2 Axes>"
      ]
     },
     "metadata": {
      "needs_background": "light"
     },
     "output_type": "display_data"
    }
   ],
   "source": [
    "fig, ax = plt.subplots(figsize=(15,12))\n",
    "\n",
    "# columns to use for prediction\n",
    "column_list = [\n",
    "    #'user_id_x',\n",
    "    #'recommended_contact_id',\n",
    "    'n_shared_contacts',\n",
    "    #'ecommended_at',\n",
    "    'added',\n",
    "    #'country_code_user',\n",
    "    #'city_id_user',\n",
    "    #'company_id_user',\n",
    "    #'discipline_id_user',\n",
    "    #'user_id_y',\n",
    "    #'country_code_rec',\n",
    "    #'city_id_rec',\n",
    "    #'company_id_rec',\n",
    "    #'discipline_id_rec',\n",
    "    'same_country',\n",
    "    'same_city',\n",
    "    'same_company',\n",
    "    'same_discipline'\n",
    "    ]\n",
    "\n",
    "corrMatrix = enriched_connections[column_list].corr()\n",
    "sns.heatmap(corrMatrix, annot=True)\n",
    "plt.show()"
   ]
  },
  {
   "cell_type": "markdown",
   "id": "5a9dc678",
   "metadata": {},
   "source": [
    "There is a considerable correlation between the target (added) and the features created by enriching the dataset(    'same_country', 'same_city', 'same_company', 'same_discipline') and the number of shared contacts"
   ]
  }
 ],
 "metadata": {
  "kernelspec": {
   "display_name": "Python 3 (ipykernel)",
   "language": "python",
   "name": "python3"
  },
  "language_info": {
   "codemirror_mode": {
    "name": "ipython",
    "version": 3
   },
   "file_extension": ".py",
   "mimetype": "text/x-python",
   "name": "python",
   "nbconvert_exporter": "python",
   "pygments_lexer": "ipython3",
   "version": "3.9.7"
  }
 },
 "nbformat": 4,
 "nbformat_minor": 5
}
